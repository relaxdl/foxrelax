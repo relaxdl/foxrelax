{
  "cells": [
    {
      "cell_type": "markdown",
      "metadata": {
        "id": "view-in-github",
        "colab_type": "text"
      },
      "source": [
        "<a href=\"https://colab.research.google.com/github/relaxdl/foxrelax/blob/main/%E5%85%85%E5%88%86%E5%88%A9%E7%94%A8%E6%82%A8%E7%9A%84_Colab_%E8%AE%A2%E9%98%85.ipynb\" target=\"_parent\"><img src=\"https://colab.research.google.com/assets/colab-badge.svg\" alt=\"Open In Colab\"/></a>"
      ]
    },
    {
      "cell_type": "markdown",
      "metadata": {
        "id": "SKQ4bH7qMGrA"
      },
      "source": [
        "# 充分利用您的 Colab 订阅\n",
        "\n"
      ]
    },
    {
      "cell_type": "markdown",
      "metadata": {
        "id": "QMMqmdiYMkvi"
      },
      "source": [
        "## 更快的 GPU\n",
        "\n",
        "<p>已购买任一 Colab 付费方案的用户可使用付费 GPU。只需在菜单中依次选择<code>运行时 &gt 更改运行时类型</code>，升级笔记本的 GPU 设置，即可启用付费加速器。根据实际可用情况，选择付费 GPU 可能会授予您使用 V100 或 A100 Nvidia GPU 的权限。</p><p>免费版 Colab 会根据配额限制和实际可用情况，授予您使用 Nvidia T4 GPU 的权限。</p>\n",
        "\n",
        "只需执行以下单元格，即可随时查看分配给您的 GPU。如果以下代码单元格的运行结果是“Not connected to a GPU”（未连接到 GPU），您可以通过以下步骤更改运行时：在菜单中依次选择<code>运行时 &gt; 更改运行时类型</code>，启用 GPU 加速器，然后重新执行该代码单元格。"
      ]
    },
    {
      "cell_type": "code",
      "execution_count": null,
      "metadata": {
        "id": "23TOba33L4qf"
      },
      "outputs": [],
      "source": [
        "gpu_info = !nvidia-smi\n",
        "gpu_info = '\\n'.join(gpu_info)\n",
        "if gpu_info.find('failed') >= 0:\n",
        "  print('Not connected to a GPU')\n",
        "else:\n",
        "  print(gpu_info)"
      ]
    },
    {
      "cell_type": "markdown",
      "metadata": {
        "id": "Sa-IrJS1aRVJ"
      },
      "source": [
        "若要在笔记本上使用 GPU，请在菜单中依次选择<code>运行时 &gt; 更改运行时类型</code>，然后从“硬件加速器”下拉菜单中选择 GPU。"
      ]
    },
    {
      "cell_type": "markdown",
      "metadata": {
        "id": "65MSuHKqNeBZ"
      },
      "source": [
        "## 更多内存\n",
        "\n",
        "已购买任一 Colab 付费方案的用户可使用高内存虚拟机（如果可用）。\n",
        "只需运行以下代码单元格，即可随时查看您的可用内存量。如果以下代码单元格的运行结果是“Not using a high-RAM runtime”（未使用高 RAM 运行时），您可以通过以下步骤启用高 RAM 运行时：在菜单中依次选择<code>运行时 &gt; 更改运行时类型</code>，然后在“运行时规格”下拉菜单中选择“高 RAM”。完成选择后，重新执行该代码单元格。"
      ]
    },
    {
      "cell_type": "code",
      "execution_count": null,
      "metadata": {
        "id": "V1G82GuO-tez"
      },
      "outputs": [],
      "source": [
        "from psutil import virtual_memory\n",
        "ram_gb = virtual_memory().total / 1e9\n",
        "print('Your runtime has {:.1f} gigabytes of available RAM\\n'.format(ram_gb))\n",
        "\n",
        "if ram_gb < 20:\n",
        "  print('Not using a high-RAM runtime')\n",
        "else:\n",
        "  print('You are using a high-RAM runtime!')"
      ]
    },
    {
      "cell_type": "markdown",
      "metadata": {
        "id": "BJW8Qi-pPpep"
      },
      "source": [
        "## 更长的运行时\n",
        "\n",
        "所有 Colab 运行时都会在一段时间后重置（如果运行时未执行代码，则会更早重置）。与免费版 Colab 相比，Colab Pro 和 Pro+ 用户可以享受更长的运行时。\n",
        "\n",
        "## 后台执行\n",
        "\n",
        "Colab Pro+ 用户可获得后台执行权限，即使是在关闭浏览器标签页后长达 24 小时的时间里，笔记本仍会继续执行。若要在笔记本上启用后台执行功能，请在菜单中依次选择 <code>运行时 &gt; 更改运行时类型</code>，然后启用后台执行功能。\n"
      ]
    },
    {
      "cell_type": "markdown",
      "metadata": {
        "id": "uLlTRcMM_h0k"
      },
      "source": [
        "## 缓解 Colab Pro 中的资源限制\n",
        "\n",
        "您在 Colab 中可以使用的资源量并非不受限制。若要充分利用 Colab，请避免在不需要时占用资源。例如，仅在需要时使用 GPU，并在使用完毕后关闭 Colab 标签页。\n",
        "\n",
        "在遇到限制时，您可以通过随用随付的方式购买更多计算单元，以缓解此类限制。任何人都能通过<a href=\"https://colab.research.google.com/signup\">随用随付</a>方式购买计算单元，无需订阅。"
      ]
    },
    {
      "cell_type": "markdown",
      "metadata": {
        "id": "mm8FzEidvPs6"
      },
      "source": [
        "## 向我们发送反馈！\n",
        "\n",
        "<p>如果您有任何反馈，欢迎告诉我们。发送反馈的最佳方式是使用“帮助”&gt;“发送反馈…”菜单。如果您在 Colab Pro 中遇到用量限制，建议您订阅 Pro+。</p><p>如果您在使用 Colab Pro、Pro+ 或随用随付时遇到错误或其他结算（付款）相关问题，请发送电子邮件至 <a href=\"mailto:colab-billing@google.com\">colab-billing@google.com</a>。</p>"
      ]
    },
    {
      "cell_type": "markdown",
      "metadata": {
        "id": "qB3bdLe8jkAa"
      },
      "source": [
        "## 更多资源\n",
        "\n",
        "### 在 Colab 中使用笔记本\n",
        "- [Colaboratory 概览](/notebooks/basic_features_overview.ipynb)\n",
        "- [Markdown 指南](/notebooks/markdown_guide.ipynb)\n",
        "- [导入库和安装依赖项](/notebooks/snippets/importing_libraries.ipynb)\n",
        "- [在 GitHub 中保存和加载笔记本](https://colab.research.google.com/github/googlecolab/colabtools/blob/master/notebooks/colab-github-demo.ipynb)\n",
        "- [互动表单](/notebooks/forms.ipynb)\n",
        "- [互动微件](/notebooks/widgets.ipynb)\n",
        "\n",
        "<a name=\"working-with-data\"></a>\n",
        "### 处理数据\n",
        "- [加载数据：云端硬盘、表格和 Google Cloud Storage](/notebooks/io.ipynb) \n",
        "- [图表：可视化数据](/notebooks/charts.ipynb)\n",
        "- [BigQuery 使用入门](/notebooks/bigquery.ipynb)\n",
        "\n",
        "### 机器学习速成课程\n",
        "以下是 Google 在线机器学习课程中的部分笔记本。请查看<a href=\"https://developers.google.com/machine-learning/crash-course/\">完整课程网站</a>了解详情。\n",
        "- [Pandas DataFrame 简介](https://colab.research.google.com/github/google/eng-edu/blob/main/ml/cc/exercises/pandas_dataframe_ultraquick_tutorial.ipynb)\n",
        "- [通过 tf.keras 使用合成数据进行线性回归](https://colab.research.google.com/github/google/eng-edu/blob/main/ml/cc/exercises/linear_regression_with_synthetic_data.ipynb)\n",
        "\n",
        "\n",
        "<a name=\"using-accelerated-hardware\"></a>\n",
        "### 使用加速硬件\n",
        "- [将 TensorFlow 与 GPU 配合使用](/notebooks/gpu.ipynb)\n",
        "- [将 TensorFlow 与 TPU 配合使用](/notebooks/tpu.ipynb)"
      ]
    },
    {
      "cell_type": "markdown",
      "metadata": {
        "id": "RFm2S0Gijqo8"
      },
      "source": [
        "<a name=\"machine-learning-examples\"></a>\n",
        "\n",
        "## 机器学习示例\n",
        "\n",
        "如需查看 Colaboratory 能够实现的互动机器学习分析的端到端示例，请参阅这些使用 <a href=\"https://tfhub.dev\">TensorFlow Hub</a> 中的模型的教程。\n",
        "\n",
        "一些精选示例：\n",
        "\n",
        "- <a href=\"https://tensorflow.org/hub/tutorials/tf2_image_retraining\">重新训练图像分类器</a>：基于预训练的图像分类器，构建一个分辨花朵的 Keras 模型。\n",
        "- <a href=\"https://tensorflow.org/hub/tutorials/tf2_text_classification\">文本分类</a>：将 IMDB 影评分类为“褒义”<em></em>或<em></em>“贬义”。\n",
        "- <a href=\"https://tensorflow.org/hub/tutorials/tf2_arbitrary_image_stylization\">风格迁移</a>：使用深度学习在图像之间迁移风格。\n",
        "- <a href=\"https://tensorflow.org/hub/tutorials/retrieval_with_tf_hub_universal_encoder_qa\">Multilingual Universal Sentence Encoder Q&amp;A</a>：使用机器学习模型回答来自 SQuAD 数据集中的问题。\n",
        "- <a href=\"https://tensorflow.org/hub/tutorials/tweening_conv3d\">视频插帧</a>：预测视频第一帧和最后一帧之间有些什么。\n"
      ]
    }
  ],
  "metadata": {
    "colab": {
      "collapsed_sections": [],
      "name": "充分利用您的 Colab 订阅",
      "provenance": [],
      "include_colab_link": true
    },
    "kernelspec": {
      "display_name": "Python 3",
      "name": "python3"
    }
  },
  "nbformat": 4,
  "nbformat_minor": 0
}